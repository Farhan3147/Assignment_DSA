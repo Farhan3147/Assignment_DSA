{
 "cells": [
  {
   "cell_type": "markdown",
   "id": "1800f7a1-13a2-41ad-80bd-22b3bb80c25b",
   "metadata": {},
   "source": [
    "# Recursion_Assignment Question.pdf"
   ]
  },
  {
   "cell_type": "code",
   "execution_count": 5,
   "id": "b401d041-b234-4bc1-b595-06cec3ddd81d",
   "metadata": {},
   "outputs": [
    {
     "name": "stdin",
     "output_type": "stream",
     "text": [
      "Enyter Number Of Disks : 2\n"
     ]
    },
    {
     "name": "stdout",
     "output_type": "stream",
     "text": [
      "Move Disk 1 From Source A To Destination B.\n",
      "Move Disk 2 From Source A To Destination C.\n",
      "Move Disk 1 From Source B To Destination C.\n"
     ]
    }
   ],
   "source": [
    "# Q.1 Can you explain the logic and working of the Tower of Hanoi algorithm by writing a Python program? \n",
    "#     How does the recursion work, and how are the movements of disks between rods accomplished?\n",
    "\"\"\"\n",
    "The Tower of Hanoi is a classic recursive algorithm that involves moving a tower of disks from one rod to another, subject to the following\n",
    "constraints:-\n",
    "1. Only one disk can be moved at a time.\n",
    "2. Each move consists of taking the upper disk from one of the stacks and placing it on top of another stack or on an empty rod.\n",
    "3. No disk may be placed on top of a smaller disk.\n",
    "\n",
    "The recursion works by breaking down the problem into smaller subproblems and solving them recursively. The movement of disks between rods\n",
    "is accomplished by following the Tower of Hanoi rules: move n-1 disks to the auxiliary rod, move the nth disk to the target rod, and finally,\n",
    "move the n-1 disks from the auxiliary rod to the target rod. The base case ensures that the recursion stops when there's only one disk to move.\n",
    "\n",
    "\"\"\"\n",
    "def TowerOfHanoi(nDisk, source, destination, auxiliary):\n",
    "    if nDisk == 1:\n",
    "        print(f\"Move Disk 1 From Source {source} To Destination {destination}.\")\n",
    "        return\n",
    "    \n",
    "    TowerOfHanoi(nDisk-1,source, auxiliary, destination)\n",
    "    print(f\"Move Disk {nDisk} From Source {source} To Destination {destination}.\")\n",
    "    TowerOfHanoi(nDisk-1, auxiliary, destination, source)\n",
    "    \n",
    "Disks = int(input(\"Enter Number Of Disks :\"))\n",
    "TowerOfHanoi(Disks, 'A', 'C', 'B')\n",
    "# Where A is source\n",
    "#       B is auxuliary\n",
    "#       C is destination"
   ]
  },
  {
   "cell_type": "code",
   "execution_count": 2,
   "id": "30b8c706-27c9-4096-87bd-8c2165d7868b",
   "metadata": {},
   "outputs": [
    {
     "name": "stdout",
     "output_type": "stream",
     "text": [
      "Minimum number of operations: 3\n",
      "Minimum number of operations: 5\n",
      "Minimum number of operations: 6\n"
     ]
    }
   ],
   "source": [
    "# Q.2 Given two strings word1 and word2, return the minimum number of operations required to convert word1 to word2.\n",
    "# Example 1:\n",
    "#  Input: word1 = \"horse\", word2 = \"ros\"\n",
    "#  Output: 3\n",
    "#  Explanation: \n",
    "#  horse -> rorse (replace 'h' with 'r')\n",
    "#  rorse -> rose (remove 'r')\n",
    "#  rose -> ros (remove 'e')\n",
    "\n",
    "# Example 2:\n",
    "#  Input: word1 = \"intention\", word2 = \"execution\"\n",
    "#  Output: 5\n",
    "#  Explanation: \n",
    "#  intention -> inention (remove 't')\n",
    "#  inention -> enention (replace 'i' with 'e')\n",
    "#  enention -> exention (replace 'n' with 'x')\n",
    "#  exention -> exection (replace 'n' with 'c')\n",
    "#  exection -> execution (insert 'u')\n",
    "\n",
    "def min_operation(word1, word2):\n",
    "    m, n = len(word1), len(word2)\n",
    "\n",
    "    # Create a 2D array to store the edit distances\n",
    "    dp = [[0] * (n + 1) for k in range(m + 1)]\n",
    "\n",
    "    # Initialize the base cases\n",
    "    for i in range(m + 1):\n",
    "        dp[i][0] = i\n",
    "    for j in range(n + 1):\n",
    "        dp[0][j] = j\n",
    "\n",
    "    # Fill in the rest of the table using dynamic programming\n",
    "    for i in range(1, m + 1):\n",
    "        for j in range(1, n + 1):\n",
    "            if word1[i - 1] == word2[j - 1]:\n",
    "                dp[i][j] = dp[i - 1][j - 1]\n",
    "            else:\n",
    "                dp[i][j] = 1 + min(dp[i - 1][j],      # Deletion\n",
    "                                  dp[i][j - 1],      # Insertion\n",
    "                                  dp[i - 1][j - 1])  # Substitution\n",
    "\n",
    "    # The bottom-right cell contains the minimum edit distance\n",
    "    return dp[m][n]\n",
    "\n",
    "# Example usage:\n",
    "word1 = \"horse\"\n",
    "word2 = \"ros\"\n",
    "result = min_operation(word1, word2)\n",
    "print(f\"Minimum number of operations: {result}\")\n",
    "result = min_operation(\"intention\", \"execution\")\n",
    "print(f\"Minimum number of operations: {result}\")\n",
    "result = min_operation(\"consistency\", \"continuity\")\n",
    "print(f\"Minimum number of operations: {result}\")\n"
   ]
  },
  {
   "cell_type": "code",
   "execution_count": 3,
   "id": "bf178ef2-e401-4e41-93e9-53cfdd38da13",
   "metadata": {},
   "outputs": [
    {
     "name": "stdout",
     "output_type": "stream",
     "text": [
      "Maximum value in given array [13, 1, -3, 22, 5] is : 22 \n"
     ]
    }
   ],
   "source": [
    "# Q. 3 Print the max value of the array [ 13, 1, -3, 22, 5].\n",
    "\n",
    "array = [ 13, 1, -3, 22, 5]\n",
    "Max = -9999999999             # initialize Max variable with minimum value\n",
    "for i in array:               # iterate each element in given array if element is greater than max then assign it to max.\n",
    "    if Max < i:\n",
    "        Max = i\n",
    "print(f\"Maximum value in given array {array} is : {Max} \")"
   ]
  },
  {
   "cell_type": "code",
   "execution_count": 2,
   "id": "5aecc2f5-b054-4e54-b39a-a1010279b47b",
   "metadata": {},
   "outputs": [
    {
     "name": "stdout",
     "output_type": "stream",
     "text": [
      "Sum of all elements in given array [92, 23, 15, -20, 10] is : 120\n"
     ]
    }
   ],
   "source": [
    "# Q.4 Find the sum of the values of the array [92, 23, 15, -20, 10].\n",
    "\n",
    "array = [92, 23, 15, -20, 10]\n",
    "Sum = 0                # initialize Sum variable = 0\n",
    "for i in array:        # iterate each element in array and add them into Sum varable.\n",
    "    Sum += i\n",
    "print(f\"Sum of all elements in given array {array} is : {Sum}\")\n"
   ]
  },
  {
   "cell_type": "code",
   "execution_count": 13,
   "id": "975eaa53-500a-4aa5-85b5-f6dba03d85e0",
   "metadata": {},
   "outputs": [
    {
     "name": "stdin",
     "output_type": "stream",
     "text": [
      "Enter Number :  153\n"
     ]
    },
    {
     "name": "stdout",
     "output_type": "stream",
     "text": [
      "Total digits in Number 153 is : 3\n",
      "Seprate numbers of N is : [1, 5, 3] \n",
      "Number 153 is 'Armstrong Number' \n"
     ]
    }
   ],
   "source": [
    "# Q.5 Given a number n. Print if it is an armstrong number or not.An armstrong number is a number if the sum\n",
    "# of every digit in that number raised to the power of total digits in that number is equal to the number.\n",
    "# Example : 153 = 1^3 + 5^3 + 3^3 = 1 + 125 + 27 = 153 hence 153 is an armstrong number. (Easy)\n",
    "# Input1 : 153\n",
    "# Output1 : Yes\n",
    "# Input 2 : 134\n",
    "# Output2 : No\n",
    "\n",
    "N = int(input(\"Enter Number : \"))                   # take number from user\n",
    "digit = 0                                           # initialize digit = 0, to check how many digits in numbers\n",
    "temp = N                                            # copy number in temp variable\n",
    "List = []                                           # initialize empty list to store individual digits of N\n",
    "while temp > 0:                                     # iterate loop until temp not zero\n",
    "    rem = temp%10                                   # append individual elements in to list\n",
    "    List.append(rem)\n",
    "    temp = temp//10\n",
    "    digit = digit + 1                               # increnment digits\n",
    "List = List[::-1]\n",
    "print(f\"Total digits in Number {N} is : {digit}\")   # print how many digits in numbers\n",
    "print(f\"Seprate numbers of N is : {List} \")         # print individual digits\n",
    "Total_Sum = 0\n",
    "for i in List:\n",
    "    Total_Sum = Total_Sum + i**digit           # calculate the sum of every digit in that number raised to the power of total digits in that number\n",
    "    \n",
    "if Total_Sum == N:                             # if toatal sum is == N then armstrong number\n",
    "    print(f\"Number {N} is 'Armstrong Number' \")\n",
    "else:\n",
    "    print(f\"Number {N} is NOT 'Armstrong Number' \")\n"
   ]
  }
 ],
 "metadata": {
  "kernelspec": {
   "display_name": "Python 3 (ipykernel)",
   "language": "python",
   "name": "python3"
  },
  "language_info": {
   "codemirror_mode": {
    "name": "ipython",
    "version": 3
   },
   "file_extension": ".py",
   "mimetype": "text/x-python",
   "name": "python",
   "nbconvert_exporter": "python",
   "pygments_lexer": "ipython3",
   "version": "3.10.8"
  }
 },
 "nbformat": 4,
 "nbformat_minor": 5
}
