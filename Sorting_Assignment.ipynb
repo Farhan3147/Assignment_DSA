{
 "cells": [
  {
   "cell_type": "markdown",
   "id": "b21dad85-97a6-494e-b69c-e98a6560bc5a",
   "metadata": {},
   "source": [
    "# Sorting Assignment"
   ]
  },
  {
   "cell_type": "code",
   "execution_count": 38,
   "id": "ff1b57b8-5027-4ade-904d-8f4feaaf4543",
   "metadata": {},
   "outputs": [
    {
     "name": "stdout",
     "output_type": "stream",
     "text": [
      "[1, 1, 2, 2, 2, 3, 3, 3, 3, 3, 3, 3, 4, 4, 4, 5, 5]\n",
      "\n",
      "Maximum Occuring Number in Given array is 3, repeated 7 Times.\n"
     ]
    }
   ],
   "source": [
    "# Problem 1.Given an array of n numbers, give an algorithm which gives the element appearing maximum number of times?\n",
    "\n",
    "arr = [3 ,1, 2, 3, 4, 5, 3, 2, 4, 3, 2, 5, 3, 4, 3, 1, 3]\n",
    "for i in range(len(arr), 0, -1):\n",
    "    for j in range(0, len(arr)-1):\n",
    "        if arr[j] > arr[j+1]:\n",
    "            arr[j], arr[j+1] = arr[j+1], arr[j]\n",
    "print(arr)\n",
    "count = 1\n",
    "Maximum_occuring = -1\n",
    "Max = -1\n",
    "for i in range(len(arr)-1):\n",
    "    if arr[i] == arr[i+1]:\n",
    "        count += 1\n",
    "        if count > Maximum_occuring:\n",
    "            Maximum_occuring = arr[i]\n",
    "            Max = count\n",
    "    else:\n",
    "        count = 1\n",
    "print()\n",
    "print(f\"Maximum Occuring Number in Given array is {Maximum_occuring}, repeated {Max} Times.\")\n"
   ]
  },
  {
   "cell_type": "code",
   "execution_count": 39,
   "id": "37634bb4-42fd-4a6d-99ea-98740e7f9d0b",
   "metadata": {},
   "outputs": [
    {
     "name": "stdout",
     "output_type": "stream",
     "text": [
      "5 is missing.\n"
     ]
    }
   ],
   "source": [
    "# Problem 2 : We are given a list of n-1 integers and these integers are in the range of 1 to n . There are no duplicates in the list.\n",
    "# One of the integers is missing in the list. Give an algorithm to find that element Ex: [1,2,4,6,3,7,8] 5 is the missing num.\n",
    "\n",
    "arr = [1,2,4,6,3,7,8]\n",
    "# First we sort the array in increasing order using Bubble sort.\n",
    "for i in range(len(arr), 0, -1):\n",
    "    for j in range(0, len(arr)-1):\n",
    "        if arr[j] > arr[j+1]:\n",
    "            arr[j], arr[j+1] = arr[j+1], arr[j]\n",
    "# Find the missing element\n",
    "for i in range(len(arr)-1):\n",
    "    if arr[i] != arr[i+1] - 1:\n",
    "        print(f\"{arr[i] + 1} is missing.\")\n"
   ]
  },
  {
   "cell_type": "code",
   "execution_count": 40,
   "id": "8a9aae1f-1896-424d-b942-d6782f5dcb07",
   "metadata": {},
   "outputs": [
    {
     "name": "stdout",
     "output_type": "stream",
     "text": [
      "Element which is odd number of time present is 3\n",
      "Element which is odd number of time present is 3\n"
     ]
    }
   ],
   "source": [
    "# Problem 3 : Given an array of n positive numbers. All numbers occurs even number of times except 1 which occurs odd number of times. \n",
    "# Find that number in O(n) time and O(1) space. Ex: [1,2,3,2,3,1,3]. 3 is repeats odd times.\n",
    "\n",
    "# Method 1:\n",
    "arr = [1,2,3,2,3,1,3]\n",
    "for i in range(len(arr)-1):\n",
    "    for j in range(i+1, len(arr)):\n",
    "        if arr[i] == arr[j]:\n",
    "            arr[i] = -1\n",
    "            arr[j] = -1\n",
    "            break\n",
    "for i in arr:\n",
    "    if i != -1:\n",
    "        print(f\"Element which is odd number of time present is {i}\")\n",
    "# Time complexity O(n^2)\n",
    "# spce complexity O(1)\n",
    "\n",
    "\n",
    "# Method 2:  XOR of all elements gives us odd occurring elements. \n",
    "res = 0\n",
    "for i in arr:\n",
    "    res = res ^ i\n",
    "print(f\"Element which is odd number of time present is {i}\")\n",
    "# Time complexity O(n)\n",
    "# spce complexity O(1)\n",
    "    \n",
    "\n"
   ]
  },
  {
   "cell_type": "code",
   "execution_count": 41,
   "id": "68e759f2-ddb5-4a94-963c-825140fc0999",
   "metadata": {},
   "outputs": [
    {
     "name": "stdout",
     "output_type": "stream",
     "text": [
      "2, 11 = 13\n",
      "1, 12 = 13\n",
      "5, 8 = 13\n",
      "6, 7 = 13\n",
      "3, 10 = 13\n"
     ]
    }
   ],
   "source": [
    "# Problem 4 : Given an array of n elements. Find two elements in the array such that their sum is equal to given element K.\n",
    "\n",
    "# Sort array using Bubble sort\n",
    "arr = [2, 1, 5, 6, 9, 8, 7, 12, 15, 3, 11, 10]\n",
    "num = 13\n",
    "for i in range(len(arr)-1):\n",
    "    for j in range(i+1, len(arr)):\n",
    "        if arr[i] + arr[j] == num:\n",
    "            print(f\"{arr[i]}, {arr[j]} = {num}\")\n",
    "\n"
   ]
  },
  {
   "cell_type": "code",
   "execution_count": 42,
   "id": "9952d138-6b60-4bf8-8719-ee97b6fd7054",
   "metadata": {},
   "outputs": [
    {
     "name": "stdout",
     "output_type": "stream",
     "text": [
      "-80 85\n"
     ]
    }
   ],
   "source": [
    "# Problem 5 : Given an array of both positive and negative numbers, find two numbers such that their sum is closest to 0.\n",
    "# Ex: [ 1 ,60 ,-10, 70, -80,85]. Ans : -80,85.\n",
    "\n",
    "#arr = [30, 40, -31, 78, -89, -42, 32, 20, -90]\n",
    "arr = [ 1, 60, -10, 70, -80, 85]\n",
    "\n",
    "minimum = 99999999\n",
    "for i in range(len(arr)-1):\n",
    "    for j in range(i+1, len(arr)):\n",
    "        if ((arr[i] + arr[j]) < 0):\n",
    "            if (-(arr[i] + arr[j]) < minimum):\n",
    "                minimum = -(arr[i] + arr[j])\n",
    "                a, b = i, j\n",
    "        else:\n",
    "            if ((arr[i] + arr[j]) < minimum):\n",
    "                minimum = arr[i] + arr[j]\n",
    "                a, b = i, j\n",
    "print(arr[a], arr[b])\n"
   ]
  },
  {
   "cell_type": "code",
   "execution_count": 43,
   "id": "a88a97b4-9bd0-4cfb-ba88-440aee9ad9a5",
   "metadata": {},
   "outputs": [
    {
     "name": "stdout",
     "output_type": "stream",
     "text": [
      "2 1 10\n",
      "2 5 6\n",
      "2 8 3\n",
      "1 5 7\n",
      "1 9 3\n"
     ]
    }
   ],
   "source": [
    "# Problem 6 : Given an array of n elements . Find three elements such that their sum is equal to the given number.\n",
    "\n",
    "arr = [2, 1, 5, 6, 9, 8, 7, 12, 15, 3, 11, 10]\n",
    "num = 13\n",
    "for i in range(len(arr)-2):\n",
    "    for j in range(i+1, len(arr)-1):\n",
    "        for k in range(j+1, len(arr)):\n",
    "            if arr[i] + arr[j] + arr[k] == num:\n",
    "                print(arr[i], arr[j], arr[k])\n",
    "\n"
   ]
  },
  {
   "cell_type": "code",
   "execution_count": 44,
   "id": "fe03ea9c-8816-4da0-8f7c-9b90bf574b77",
   "metadata": {},
   "outputs": [
    {
     "name": "stdout",
     "output_type": "stream",
     "text": [
      "3*3 + 4*4 = 5*5\n",
      "5*5 + 12*12 = 13*13\n",
      "6*6 + 8*8 = 10*10\n",
      "9*9 + 12*12 = 15*15\n"
     ]
    }
   ],
   "source": [
    "# Problem 7 : Given an array of n elements . Find three elements i, j, k in the array such that i * i + j * j = k*k.\n",
    "\n",
    "arr = [2, 1, 5, 6, 9, 8, 7, 12, 15, 3, 11, 10, 4, 13]\n",
    "\n",
    "# sort the array using bubble sort\n",
    "for i in range(len(arr), 0, -1):\n",
    "    for j in range(i-1):\n",
    "        if arr[j] > arr[j+1]:\n",
    "            arr[j], arr[j+1] = arr[j+1], arr[j]\n",
    "\n",
    "for i in range(len(arr)-2):\n",
    "    for j in range(i+1, len(arr)-1):\n",
    "        for k in range(j+1, len(arr)):\n",
    "            if arr[i]*arr[i] + arr[j]*arr[j] == arr[k]*arr[k]:\n",
    "                print(f\"{arr[i]}*{arr[i]} + {arr[j]}*{arr[j]} = {arr[k]}*{arr[k]}\")\n",
    "\n"
   ]
  },
  {
   "cell_type": "code",
   "execution_count": 45,
   "id": "cdb1bf62-881a-4b9a-8d14-76ec1f43f3c4",
   "metadata": {},
   "outputs": [
    {
     "name": "stdout",
     "output_type": "stream",
     "text": [
      "3 is majority element\n"
     ]
    }
   ],
   "source": [
    "# Problem 8 : An element is a majority if it appears more than n/2 times. Give an algorithm takes an array of n element as argument and\n",
    "# identifies a majority (if it exists).\n",
    "\n",
    "def majority_Element(arr):\n",
    "    n = len(arr)\n",
    "    a = \"False\"\n",
    "    for i in range(len(arr)):\n",
    "        count = 1\n",
    "        for j in range(i+1, len(arr)):\n",
    "            if arr[i] == arr[j]:\n",
    "                count += 1\n",
    "        if count >= n/2:\n",
    "            a = arr[i]\n",
    "    if a != \"False\":\n",
    "        print(f\"{arr[i]} is majority element\")\n",
    "    else:\n",
    "        print(f\"There is no majority element\")\n",
    "\n",
    "arr = [1,2,3,2,3,1,3, 3]\n",
    "majority_Element(arr)\n"
   ]
  },
  {
   "cell_type": "code",
   "execution_count": 46,
   "id": "6f5cc836-6d48-44c0-b3b8-e1934c063428",
   "metadata": {},
   "outputs": [
    {
     "name": "stdout",
     "output_type": "stream",
     "text": [
      "4 Row contains Maximum number of zeros\n"
     ]
    }
   ],
   "source": [
    "# Problem 9 : Given n × n matrix, and in each row all 1’s are followed by 0’s. Find the row with the maximum number of 0’s.\n",
    "\n",
    "# matrix = [[1,1,1,1,1,1], [1,1,1,1,1,1], [1,1,1,1,1,1], [1,1,1,1,1,1], [1,1,1,1,1,1], [1,1,1,1,1,1]]\n",
    "matrix = [[1,1,1,0,0,0], [1,1,1,1,0,0], [1,1,0,0,0,0], [1,1,1,0,0,0], [1,0,0,0,0,0], [1,1,0,0,0,0]]\n",
    "\n",
    "n = len(matrix)\n",
    "Max = 0\n",
    "a = -1\n",
    "for i in range(n):\n",
    "    count = 0\n",
    "    for j in range(n):\n",
    "        if matrix[i][j] == 0:\n",
    "            count += 1\n",
    "    if count > Max:\n",
    "        Max = count\n",
    "        a = i\n",
    "if a != -1:\n",
    "    print(f\"{a} Row contains Maximum number of zeros\")\n",
    "else:\n",
    "    print(f\"None of the Row contains zeros\")\n"
   ]
  },
  {
   "cell_type": "code",
   "execution_count": 47,
   "id": "5a1e7c8f-d921-41a8-a033-4b580c3f3e60",
   "metadata": {},
   "outputs": [
    {
     "name": "stdout",
     "output_type": "stream",
     "text": [
      "[0, 0, 0, 0, 0, 1, 1, 1, 1, 1, 2, 2]\n"
     ]
    }
   ],
   "source": [
    "# Problem 10 : Sort an array of 0’s, 1’s and 2’s [or R’s, G’s and B’s]: Given an array A[] consisting of 0’s, 1’s and\n",
    "# 2’s, give an algorithm for sorting A[].The algorithm should put all 0’s first, then all 1’s and finally all 2’s at the\n",
    "# end. Example Input = {0,1,1,0,1,2,1,2,0,0,0,1}, Output = {0,0,0,0,0,1,1,1,1,1,2,2}\n",
    "\n",
    "arr = [0,1,1,0,1,2,1,2,0,0,0,1]\n",
    "i = 0\n",
    "j = len(arr)-1\n",
    "while(i <= j):\n",
    "    if arr[i] == 0:\n",
    "        i += 1\n",
    "    elif(arr[j] == 2):\n",
    "        j -= 1\n",
    "    elif arr[i] == 2 and arr[j] == 0:\n",
    "        arr[i], arr[j] = arr[j], arr[i]\n",
    "        i += 1\n",
    "        j -= 1\n",
    "    elif arr[i] == 1:\n",
    "        for k in range(i+1, j+1):\n",
    "            if arr[k] == 0:\n",
    "                arr[i], arr[k] = arr[k], arr[i]\n",
    "                break\n",
    "        i += 1\n",
    "    elif arr[j] == 1:\n",
    "        for k in range(j-1, i-1, -1):\n",
    "            if arr[k] == 2:\n",
    "                arr[k], arr[j] = arr[j], arr[k]\n",
    "                break\n",
    "        j -= 1\n",
    "print(arr)"
   ]
  },
  {
   "cell_type": "code",
   "execution_count": null,
   "id": "cc54a88f-bbea-4411-8f59-3b78fc274f46",
   "metadata": {},
   "outputs": [],
   "source": []
  }
 ],
 "metadata": {
  "kernelspec": {
   "display_name": "Python 3 (ipykernel)",
   "language": "python",
   "name": "python3"
  },
  "language_info": {
   "codemirror_mode": {
    "name": "ipython",
    "version": 3
   },
   "file_extension": ".py",
   "mimetype": "text/x-python",
   "name": "python",
   "nbconvert_exporter": "python",
   "pygments_lexer": "ipython3",
   "version": "3.10.8"
  }
 },
 "nbformat": 4,
 "nbformat_minor": 5
}
