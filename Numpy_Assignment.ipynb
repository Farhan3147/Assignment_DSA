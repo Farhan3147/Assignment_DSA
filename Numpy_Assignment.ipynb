{
 "cells": [
  {
   "cell_type": "markdown",
   "id": "90b20595-f24b-4508-8588-56b4f859d591",
   "metadata": {},
   "source": [
    "# Numpy Assignment"
   ]
  },
  {
   "cell_type": "code",
   "execution_count": 1,
   "id": "8f3e0d18-5a6b-4904-ae27-38b259bd71e3",
   "metadata": {},
   "outputs": [],
   "source": [
    "# 1. What is a Python library? Why do we use Python libraries?\n",
    "'''\n",
    "Library : Collection of function, which can be reusable and optimised the program.\n",
    "\n",
    "A Python library is a collection of code and functions that can extend the capabilities of the Python programming language.\n",
    "They can help developers work on tasks without having to reinvent the wheel.\n",
    "\n",
    "Reduce work: Libraries can reduce the amount of work that needs to be done from scratch. For example, you can use Seaborn to generate \n",
    "visualizations with a single line of code.\n",
    "\n",
    "Save time and effort: Libraries can be integrated into projects to save time and effort.\n",
    "\n",
    "Reduce the need to write new code: Libraries can help developers avoid having to write new code every time they run the same process.\n",
    "\n",
    "Improve efficiency: Libraries can make everyday tasks more efficient.\n",
    "\n",
    "'''\n",
    "\n"
   ]
  },
  {
   "cell_type": "code",
   "execution_count": 3,
   "id": "afccd158-639d-489f-82ab-ea90fbb7b508",
   "metadata": {},
   "outputs": [
    {
     "name": "stdout",
     "output_type": "stream",
     "text": [
      "[1, 2, 3.4, 5, 'Rajat', True]\n",
      "['1' '2' '3.4' '5' 'Rajat' 'True']\n"
     ]
    }
   ],
   "source": [
    "# 2. What is the difference between Numpy array and List?\n",
    "'''\n",
    "Numpy Array : Array is basic unit of numpy and it is container to store data and array is statistically defined not dynamic.\n",
    "Array store Homogineous Data and array is faster than List.\n",
    "\n",
    "List :List store Hetrogenious Data, List are not stored themselves, it stores address of the element. List used refrencing, refrencing all the element.\n",
    "\n",
    "'''\n",
    "import numpy as np\n",
    "List = [1, 2, 3.4, 5, \"Rajat\", True]\n",
    "print(List)\n",
    "arr = np.array([1, 2, 3.4, 5, \"Rajat\", True]) # All data are converted into string(Homogineous)\n",
    "print(arr)\n"
   ]
  },
  {
   "cell_type": "code",
   "execution_count": 4,
   "id": "766498a7-92ba-4d36-a4e1-0506254bc608",
   "metadata": {},
   "outputs": [
    {
     "name": "stdout",
     "output_type": "stream",
     "text": [
      "Shape : (3, 4)\n",
      "Size : 12\n",
      "Dimension : 2\n"
     ]
    }
   ],
   "source": [
    "# 3. Find the shape, size and dimension of the following array?\n",
    "\n",
    "# [[1, 2, 3, 4]\n",
    "# [5, 6, 7, 8],\n",
    "# [9, 10, 11, 12]]\n",
    "\n",
    "import numpy as np\n",
    "arr = [[1, 2, 3, 4],\n",
    "       [5, 6, 7, 8],\n",
    "       [9, 10, 11, 12]]\n",
    "arr = np.array(arr)\n",
    "print(f\"Shape : {arr.shape}\")\n",
    "print(f\"Size : {arr.size}\")\n",
    "print(f\"Dimension : {arr.ndim}\")\n"
   ]
  },
  {
   "cell_type": "code",
   "execution_count": 5,
   "id": "3aab5c65-b8dd-424e-a787-19bc08305e4e",
   "metadata": {},
   "outputs": [
    {
     "name": "stdout",
     "output_type": "stream",
     "text": [
      "First Row : [1, 2, 3, 4]\n"
     ]
    }
   ],
   "source": [
    "# 4. Write python code to access the first row of the following array?\n",
    "'''\n",
    "[[1, 2, 3, 4]\n",
    " [5, 6, 7, 8],\n",
    " [9, 10, 11, 12]]\n",
    "'''\n",
    "arr = [[1, 2, 3, 4],\n",
    "       [5, 6, 7, 8],\n",
    "       [9, 10, 11, 12]]\n",
    "print(f\"First Row : {arr[0]}\")\n"
   ]
  },
  {
   "cell_type": "code",
   "execution_count": 6,
   "id": "4b0e3f9b-6462-41cb-a621-0acab3b3b4f1",
   "metadata": {},
   "outputs": [
    {
     "name": "stdout",
     "output_type": "stream",
     "text": [
      "Third Row and Fourth column element is: 12\n"
     ]
    }
   ],
   "source": [
    "# 5. How do you access the element at the third row and fourth column from the given numpy array?\n",
    "'''\n",
    "[[1, 2, 3, 4]\n",
    " [5, 6, 7, 8],\n",
    " [9, 10, 11, 12]]\n",
    "'''\n",
    "arr = [[1, 2, 3, 4],\n",
    "       [5, 6, 7, 8],\n",
    "       [9, 10, 11, 12]]\n",
    "print(f\"Third Row and Fourth column element is: {arr[3-1][4-1]}\")\n"
   ]
  },
  {
   "cell_type": "code",
   "execution_count": 7,
   "id": "7ffb3c30-45bf-4936-ba53-9e6b959abb69",
   "metadata": {},
   "outputs": [
    {
     "name": "stdout",
     "output_type": "stream",
     "text": [
      "1\n",
      "3\n",
      "9\n",
      "11\n"
     ]
    }
   ],
   "source": [
    "# 6. Write code to extract all odd-indexed elements from the given numpy array?\n",
    "'''\n",
    "[[1, 2, 3, 4]\n",
    " [5, 6, 7, 8],\n",
    " [9, 10, 11, 12]]\n",
    "'''\n",
    "arr = [[1, 2, 3, 4],\n",
    "       [5, 6, 7, 8],\n",
    "       [9, 10, 11, 12]]\n",
    "for i in range(0, len(arr), 2):\n",
    "    for j in range(0, len(arr[0]), 2):\n",
    "        print(arr[i][j])\n"
   ]
  },
  {
   "cell_type": "code",
   "execution_count": 8,
   "id": "114cff60-fed5-45c3-81cd-1c9c28cd71a2",
   "metadata": {},
   "outputs": [
    {
     "name": "stdout",
     "output_type": "stream",
     "text": [
      "[[1 0 1]\n",
      " [1 1 1]\n",
      " [0 0 1]]\n"
     ]
    }
   ],
   "source": [
    "# 7. How can you generate a random 3x3 matrix with values between 0 and 1?\n",
    "\n",
    "import numpy as np\n",
    "arr = np.random.randint(0, 2, size = (3, 3))\n",
    "print(arr)"
   ]
  },
  {
   "cell_type": "code",
   "execution_count": 15,
   "id": "1d2b3217-6c05-4c76-8957-8feccb9924d5",
   "metadata": {},
   "outputs": [
    {
     "name": "stdout",
     "output_type": "stream",
     "text": [
      "[[0.40007906 0.59767191 0.5688863 ]\n",
      " [0.50812426 0.22877061 0.32382955]]\n",
      "\n",
      "[[1.42845715 0.37340247 0.4097706 ]\n",
      " [0.3106961  1.91960195 0.36322865]]\n",
      "\n",
      "[0.94141763]\n",
      "\n",
      "[0.42320809]\n"
     ]
    }
   ],
   "source": [
    "# 8. Describe the difference between np.random.rand and np.random.randn?\n",
    "'''\n",
    "The main difference between np.random.rand and np.random.randn is the distribution of the random values they generate. np.random.rand generates\n",
    "values from a uniform distribution (in the range [0,1)), while np.random.randn generates values from a normal distribution.\n",
    "\n",
    "'''\n",
    "\n",
    "print(np.random.rand(2, 3)) # this will gives uniform distribution value.\n",
    "print()\n",
    "\n",
    "print(np.random.randn(2, 3)) # this will gives normal distribution value.\n",
    "print()\n",
    "\n",
    "print(np.random.rand(1)) \n",
    "print()\n",
    "\n",
    "print(np.random.randn(1))"
   ]
  },
  {
   "cell_type": "code",
   "execution_count": 22,
   "id": "b0c6b8e6-9ae8-4943-bb1c-634173415148",
   "metadata": {},
   "outputs": [
    {
     "name": "stdout",
     "output_type": "stream",
     "text": [
      "Initial Dimension : 2\n",
      "[[[[[[[[ 1  2  3  4]\n",
      "       [ 5  6  7  8]\n",
      "       [ 9 10 11 12]]]]]]]]\n",
      "Final Dimension : 8\n"
     ]
    }
   ],
   "source": [
    "# 9. Write code to increase the dimension of the following array?\n",
    "'''\n",
    "[[1, 2, 3, 4],\n",
    " [5, 6, 7, 8],\n",
    " [9, 10, 11, 12]]\n",
    "'''\n",
    "arr = [[1, 2, 3, 4],\n",
    "       [5, 6, 7, 8],\n",
    "       [9, 10, 11, 12]]\n",
    "arr = np.array(arr)\n",
    "print(f\"Initial Dimension : {arr.ndim}\")\n",
    "arr = arr.reshape(1, 1, 1, 1, 1, 1, 3, 4)\n",
    "print(arr)\n",
    "print(f\"Final Dimension : {arr.ndim}\")"
   ]
  },
  {
   "cell_type": "code",
   "execution_count": 23,
   "id": "4281713b-5d87-4e81-9ae2-b77af208cd7d",
   "metadata": {},
   "outputs": [
    {
     "name": "stdout",
     "output_type": "stream",
     "text": [
      "[[ 1  5  9]\n",
      " [ 2  6 10]\n",
      " [ 3  7 11]\n",
      " [ 4  8 12]]\n"
     ]
    }
   ],
   "source": [
    "# 10. How to transpose the following array in NumPy?\n",
    "'''\n",
    "[[1, 2, 3, 4],\n",
    " [5, 6, 7, 8],\n",
    " [9, 10, 11, 12]]\n",
    "'''\n",
    "arr = [[1, 2, 3, 4],\n",
    "       [5, 6, 7, 8],\n",
    "       [9, 10, 11, 12]]\n",
    "arr = np.array(arr)\n",
    "print(arr.T)\n"
   ]
  },
  {
   "cell_type": "code",
   "execution_count": 24,
   "id": "9d14653b-7ee0-4560-b8e1-4950b440177d",
   "metadata": {},
   "outputs": [
    {
     "name": "stdout",
     "output_type": "stream",
     "text": [
      "Index wise Multiplication : [[  1   4   9  16]\n",
      " [ 25  36  49  64]\n",
      " [ 81 100 121 144]]\n",
      "Matrix Multiplication : [[ 30  70 110]\n",
      " [ 70 174 278]\n",
      " [110 278 446]]\n",
      "Addition of two matrices : [[ 2  4  6  8]\n",
      " [10 12 14 16]\n",
      " [18 20 22 24]]\n",
      "subtract B from A : [[0 0 0 0]\n",
      " [0 0 0 0]\n",
      " [0 0 0 0]]\n",
      "Divide matrix B by A : [[1. 1. 1. 1.]\n",
      " [1. 1. 1. 1.]\n",
      " [1. 1. 1. 1.]]\n"
     ]
    }
   ],
   "source": [
    "# 11. Consider the following matrix:\n",
    "\n",
    "# Matrix A2 [[1, 2, 3, 4] [5, 6, 7, 8],[9, 10, 11, 12]]\n",
    "# Matrix B2 [[1, 2, 3, 4] [5, 6, 7, 8],[9, 10, 11, 12]]\n",
    "\n",
    "# Perform the following operation using Python1\n",
    "# 1. index wise multiplication\n",
    "# 2. Matrix Mutiplication\n",
    "# 3. add both matrix\n",
    "# 4. subtract B from A\n",
    "# 5. Divide matrix B by A\n",
    "import numpy as np\n",
    "\n",
    "matrixA = [[1, 2, 3, 4],\n",
    "       [5, 6, 7, 8],\n",
    "       [9, 10, 11, 12]]\n",
    "\n",
    "matrixB = [[1, 2, 3, 4],\n",
    "       [5, 6, 7, 8],\n",
    "       [9, 10, 11, 12]]\n",
    "\n",
    "matrixA = np.array(matrixA)\n",
    "matrixB = np.array(matrixB)\n",
    "\n",
    "# 1. index wise multiplication\n",
    "indexwise_Multiplication = matrixA*matrixB\n",
    "print(f\"Index wise Multiplication : {indexwise_Multiplication}\")\n",
    "\n",
    "# 2. Matrix Mutiplication\n",
    "matrix_Multiplication = matrixA @ matrixB.T\n",
    "print(f\"Matrix Multiplication : {matrix_Multiplication}\")\n",
    "\n",
    "# 3. add both matrix\n",
    "add_Matrices = matrixA + matrixB\n",
    "print(f\"Addition of two matrices : {add_Matrices}\")\n",
    "\n",
    "# 4. subtract B from A\n",
    "Subtract = matrixB - matrixA\n",
    "print(f\"subtract B from A : {Subtract}\")\n",
    "\n",
    "# 5. Divide matrix B by A\n",
    "Divide = matrixB/matrixA\n",
    "print(f\"Divide matrix B by A : {Divide}\")"
   ]
  },
  {
   "cell_type": "code",
   "execution_count": 25,
   "id": "7b5e286f-f597-4f19-9fe2-22f8141208ab",
   "metadata": {},
   "outputs": [
    {
     "name": "stdout",
     "output_type": "stream",
     "text": [
      "Original Array : [1 2 3 4 5 6]\n",
      "Swapped Array : [ 72057594037927936 144115188075855872 216172782113783808\n",
      " 288230376151711744 360287970189639680 432345564227567616]\n"
     ]
    }
   ],
   "source": [
    "# 12.  Which function in Numpy can be used to swap the byte order of an array?\n",
    "\n",
    "'''\n",
    "In numpy byteswap() function can be used to swap the byte order of an array. this function return a new array with byte order swapped.\n",
    "'''\n",
    "import numpy as np\n",
    "arr = [1, 2, 3, 4, 5, 6]\n",
    "arr = np.array(arr)\n",
    "arr_swap = arr.byteswap()\n",
    "print(f\"Original Array : {arr}\")\n",
    "print(f\"Swapped Array : {arr_swap}\")\n",
    "\n"
   ]
  },
  {
   "cell_type": "code",
   "execution_count": 8,
   "id": "8311bfe0-5f3a-4bdd-9098-c57d1bc4a319",
   "metadata": {},
   "outputs": [
    {
     "name": "stdout",
     "output_type": "stream",
     "text": [
      "Original Matrix : [[ 1  2  3]\n",
      " [ 6  6  2]\n",
      " [ 9  0 11]]\n",
      "Inverse Matrix : [[-0.34375     0.11458333  0.07291667]\n",
      " [ 0.25        0.08333333 -0.08333333]\n",
      " [ 0.28125    -0.09375     0.03125   ]]\n"
     ]
    }
   ],
   "source": [
    "# 13.  What is the significance of the np.linalg.inv function?\n",
    "'''\n",
    "The np.linalg.inv() function is used to calculate the inverse of a matrix. The inverse of a matrix is that matrix which when multiplied with \n",
    "the original matrix, results in an identity matrix.\n",
    "\n",
    "'''\n",
    "matrixA = [[1, 2, 3],\n",
    "       [6, 6, 2],\n",
    "       [9, 0, 11]]\n",
    "matrixA = np.array(matrixA)\n",
    "matrixA_inv = np.linalg.inv(matrixA)\n",
    "print(f\"Original Matrix : {matrixA}\")\n",
    "print(f\"Inverse Matrix : {matrixA_inv}\")\n"
   ]
  },
  {
   "cell_type": "code",
   "execution_count": 13,
   "id": "ee8e217c-f6a7-47b2-8256-ae4ff28f5fc1",
   "metadata": {},
   "outputs": [
    {
     "name": "stdout",
     "output_type": "stream",
     "text": [
      "[[ 1  2  3  4  5  6]\n",
      " [ 7  8  9 10 11 12]]\n",
      "\n",
      "[[ 1  2  3  4  5  6  7  8  9 10 11 12]]\n"
     ]
    }
   ],
   "source": [
    "# 14. What does the np.reshape function do, and how is it used?\n",
    "'''\n",
    "np.reshape function is used to change the shape of the matrix without changing the matrix size and it's data. The new shape must be compatible\n",
    "with the old one, though an index of -1 can be used to infer one dimension. Initial array size are not change or changes will not reflected\n",
    "original array(shallow copy).\n",
    "np.reshape function commonly used in multiplication of matrix in machine learning model.\n",
    "'''\n",
    "import numpy as np\n",
    "matrixA = [[1, 2, 3, 4],\n",
    "       [5, 6, 7, 8],\n",
    "       [9, 10, 11, 12]]\n",
    "matrixA = np.array(matrixA)\n",
    "print(matrixA.reshape(2, 6))\n",
    "print()\n",
    "print(matrixA.reshape(1, -1))\n"
   ]
  },
  {
   "cell_type": "code",
   "execution_count": 24,
   "id": "f5475efe-69f5-4c21-b4ae-7a83db031725",
   "metadata": {},
   "outputs": [
    {
     "name": "stdout",
     "output_type": "stream",
     "text": [
      "[[0. 0. 0. 0.]\n",
      " [0. 0. 0. 0.]\n",
      " [0. 0. 0. 0.]]\n",
      "\n",
      "[[5. 5. 5. 5.]\n",
      " [5. 5. 5. 5.]\n",
      " [5. 5. 5. 5.]]\n",
      "\n",
      "[[15. 15. 15. 15.]\n",
      " [15. 15. 15. 15.]\n",
      " [15. 15. 15. 15.]]\n",
      "\n",
      "[[16. 17. 18. 19.]\n",
      " [16. 17. 18. 19.]\n",
      " [16. 17. 18. 19.]]\n"
     ]
    }
   ],
   "source": [
    "# 15. What is broadcasting in Numpy?\n",
    "'''\n",
    "Broadcasting is a powerful feature of NumPy that allows you to perform arithmetic operations on arrays of different shapes. When you try to\n",
    "perform an operation on two arrays of different shapes, NumPy will automatically broadcast the smaller array to the shape of the larger array.\n",
    "This allows you to perform element-wise operations on arrays of different shapes without having to reshape them.\n",
    "'''\n",
    "import numpy as np\n",
    "arr = np.zeros((3,4))\n",
    "print(arr)\n",
    "arr = arr + 5\n",
    "print()\n",
    "print(arr)\n",
    "\n",
    "arr = arr*3\n",
    "print()\n",
    "print(arr)\n",
    "\n",
    "a = np.array([1, 2, 3, 4])\n",
    "arr = arr + a\n",
    "print()\n",
    "print(arr)"
   ]
  },
  {
   "cell_type": "code",
   "execution_count": null,
   "id": "e864c966-67ba-4eb2-958e-92a8ae4cbab6",
   "metadata": {},
   "outputs": [],
   "source": []
  }
 ],
 "metadata": {
  "kernelspec": {
   "display_name": "Python 3 (ipykernel)",
   "language": "python",
   "name": "python3"
  },
  "language_info": {
   "codemirror_mode": {
    "name": "ipython",
    "version": 3
   },
   "file_extension": ".py",
   "mimetype": "text/x-python",
   "name": "python",
   "nbconvert_exporter": "python",
   "pygments_lexer": "ipython3",
   "version": "3.10.8"
  }
 },
 "nbformat": 4,
 "nbformat_minor": 5
}
