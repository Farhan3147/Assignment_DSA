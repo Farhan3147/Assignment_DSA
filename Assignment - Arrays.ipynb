{
 "cells": [
  {
   "cell_type": "markdown",
   "id": "161c83a9-c5a4-48a4-8feb-2b147c7375cf",
   "metadata": {},
   "source": [
    "# Assignment - Arrays"
   ]
  },
  {
   "cell_type": "code",
   "execution_count": 3,
   "id": "45556238-6287-44ac-85f8-34c1bf0f7280",
   "metadata": {},
   "outputs": [
    {
     "name": "stdout",
     "output_type": "stream",
     "text": [
      "True\n"
     ]
    }
   ],
   "source": [
    "# 1. Given an array, check if it contains any duplicates or not. \n",
    "# arr = [1, 2, 4, 2, 5, 9] \n",
    "# Output = True\n",
    "\n",
    "unique_element = []              #  here we create a array to append unique element\n",
    "flag = 0                         # initialize flag 0 , if any dublicate pair exist then raise flag = 1\n",
    "arr = [1, 2, 4, 2, 5, 9]         # input array\n",
    "for i in arr:                    # iterate each element in array\n",
    "    if i not in unique_element:  # if element not in unique_element array then append it\n",
    "        unique_element.append(i)\n",
    "        \n",
    "    else:                        # if element already exist in unique_element array thats mean element is dublicate then raise flag = 1\n",
    "        flag = 1\n",
    "if flag == 1:                   # if flag = 1 thats mean array contain dublicate\n",
    "    print(\"True\")\n",
    "else:\n",
    "    print(\"False\")"
   ]
  },
  {
   "cell_type": "code",
   "execution_count": 5,
   "id": "996f669d-57b2-419b-a9fd-85139a97e1e8",
   "metadata": {},
   "outputs": [
    {
     "name": "stdout",
     "output_type": "stream",
     "text": [
      "[5, 6, 7, 1, 2, 3, 4]\n"
     ]
    }
   ],
   "source": [
    "# 2. Given an array and an integer k, rotate the array to the right by k steps. \n",
    "# arr = [1, 2, 3, 4, 5, 6, 7] k = 3 \n",
    "# Output = [5, 6, 7, 1, 2, 3, 4]\n",
    "\n",
    "arr = [1, 2, 3, 4, 5, 6, 7]   # take arr input\n",
    "k = k%len(arr)                # Normalize k to handle cases where n is larger than the list length\n",
    "k = 3                         # rotate arr right by k position\n",
    "arr = arr[-k:] + arr[:-k]     # we use slicing operation to create a rotated array\n",
    "#we take elements from last k position to the end(arr[-k:]) and concatenate it with elements from the begining to the position k from the end(arr[:-k])\n",
    "print(arr)                    # print arr\n"
   ]
  },
  {
   "cell_type": "code",
   "execution_count": 2,
   "id": "f3b971a7-cc4b-4b37-8740-aa92adc13ed5",
   "metadata": {},
   "outputs": [
    {
     "name": "stdout",
     "output_type": "stream",
     "text": [
      "Reversed array : [12, 9, 7, 5, 4, 2]\n"
     ]
    }
   ],
   "source": [
    "# 3. Reverse the given array in-place, means without using any extra data structure. \n",
    "# arr = [2, 4, 5, 7, 9, 12] \n",
    "# Output = [12, 9, 7, 5, 4, 2]\n",
    "\n",
    "arr = [2, 4, 5, 7, 9, 12]\n",
    "i = 0                             # initialize 0th index\n",
    "j = len(arr) -1                   # initialize last index\n",
    "while i < j:                      # if i < j the swap the values\n",
    "    arr[i] = arr[i] + arr[j]      # here we swap the value without using any extra data structure or any extra variable.\n",
    "    arr[j] = arr[i] - arr[j]      # we also reverse array using \"slicing operation\" \"arr[::-1]\"\n",
    "    arr[i] = arr[i] - arr[j]\n",
    "    i += 1\n",
    "    j -= 1\n",
    "print(f\"Reversed array : {arr}\")"
   ]
  },
  {
   "cell_type": "code",
   "execution_count": 3,
   "id": "61d9cb52-f075-43c3-a2ff-386146187c0b",
   "metadata": {},
   "outputs": [
    {
     "name": "stdout",
     "output_type": "stream",
     "text": [
      "Maximum element is : 20\n"
     ]
    }
   ],
   "source": [
    "# 4. Given an array of integers, find the maximum element in an array\n",
    "#  arr = [10, 5, 20, 8, 15]\n",
    "#  Output = 20\n",
    "\n",
    "arr = [10, 5, 20, 8, 15]\n",
    "Max = -9999999999                     # initialize Max with minimum value\n",
    "for i in arr:                         # iterate array\n",
    "    if Max < i:                       # if max is less than any element then assign the larger value in max\n",
    "        Max = i\n",
    "print(f\"Maximum element is : {Max}\")\n",
    "\n"
   ]
  },
  {
   "cell_type": "code",
   "execution_count": 28,
   "id": "0212712b-86e7-4691-a2c5-36bd71c71d5c",
   "metadata": {},
   "outputs": [
    {
     "name": "stdout",
     "output_type": "stream",
     "text": [
      "[1, 2, 3, 4, 5]\n"
     ]
    }
   ],
   "source": [
    "# 5. Given a sorted array, remove the duplicate element without using any extra data structure. \n",
    "# arr = [1, 1, 2, 2, 2, 3, 3, 4, 4, 4, 5, 5] \n",
    "# Output = [1, 2, 3, 4, 5]\n",
    "\n",
    "arr = [1, 1, 2, 2, 2, 3, 3, 4, 4, 4, 5, 5]\n",
    "length = len(arr)                           # calculate length of array\n",
    "i = 1                                       # initialize start index\n",
    "while i < length:                           # iterate untill i < length\n",
    "    if arr[i-1] == arr[i]:                  # if adjacent element are equal then remove it\n",
    "        arr.remove(arr[i])\n",
    "        length -= 1\n",
    "        continue                            # without increment recheck if adjacent elements are equal or not\n",
    "    i += 1\n",
    "print(arr)"
   ]
  },
  {
   "cell_type": "code",
   "execution_count": null,
   "id": "5749cdba-9115-4be1-959a-35787ca401bf",
   "metadata": {},
   "outputs": [],
   "source": []
  }
 ],
 "metadata": {
  "kernelspec": {
   "display_name": "Python 3 (ipykernel)",
   "language": "python",
   "name": "python3"
  },
  "language_info": {
   "codemirror_mode": {
    "name": "ipython",
    "version": 3
   },
   "file_extension": ".py",
   "mimetype": "text/x-python",
   "name": "python",
   "nbconvert_exporter": "python",
   "pygments_lexer": "ipython3",
   "version": "3.10.8"
  }
 },
 "nbformat": 4,
 "nbformat_minor": 5
}
