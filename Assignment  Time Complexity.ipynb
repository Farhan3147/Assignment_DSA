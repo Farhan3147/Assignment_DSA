{
 "cells": [
  {
   "cell_type": "markdown",
   "id": "b705808a-32bf-4809-88a4-af215f888e07",
   "metadata": {},
   "source": [
    "# Assignment : Time Complexity"
   ]
  },
  {
   "cell_type": "markdown",
   "id": "a9c931cf-dc11-4510-ad08-e92daaa872b8",
   "metadata": {},
   "source": [
    "# Find time complexity of below code blocks :"
   ]
  },
  {
   "cell_type": "code",
   "execution_count": null,
   "id": "1943b802-761f-43c6-b2df-27ab6410e4d0",
   "metadata": {},
   "outputs": [],
   "source": [
    "'''\n",
    "Problem 1 :\n",
    "\n",
    "def quicksort(arr):\n",
    "    if len(arr) <= 1:\n",
    "        return arr\n",
    "    pivot = arr[len(arr) // 2]\n",
    "    left = [x for x in arr if x < pivot]\n",
    "    middle = [x for x in arr if x == pivot]\n",
    "    right = [x for x in arr if x > pivot]\n",
    "    return quicksort(left) + middle + quicksort(right)\n",
    "'''\n",
    "\n",
    "# solution\n",
    "'''\n",
    "Average Case Time Complexity of quicksort : O(nlogn)\n",
    "worst case time complexity of quicksort : O(n²)\n",
    "'''\n"
   ]
  },
  {
   "cell_type": "code",
   "execution_count": null,
   "id": "299c2575-db8b-469d-8cb7-4404e6c05900",
   "metadata": {},
   "outputs": [],
   "source": [
    "'''\n",
    "Problem 2 :\n",
    "\n",
    "def nested_loop_example(matrix):\n",
    "    rows, cols = len(matrix), len(matrix[0])\n",
    "    total = 0\n",
    "    for i in range(rows):\n",
    "        for j in range(cols):\n",
    "            total += matrix[i][j]\n",
    "    return total\n",
    "'''\n",
    "\n",
    "\n",
    "# solution\n",
    "'''\n",
    "inner for loop runs n times where n is total no. of column present in matrix\n",
    "outer for loop runs n times where n is total no. of row present in matrix\n",
    "\n",
    "then overall time complexity :\n",
    "=> n + n + n + n + ...........+ n\n",
    "T(n) = n*n\n",
    "\n",
    "Worst case Time Complexity\n",
    "T(n) = O(n²)\n",
    "'''\n"
   ]
  },
  {
   "cell_type": "code",
   "execution_count": null,
   "id": "4052ca5b-ddb0-4e0b-988f-a829d329ce93",
   "metadata": {},
   "outputs": [],
   "source": [
    "'''\n",
    "Problem 3 :\n",
    "\n",
    "def example_function(arr):\n",
    "    result = 0\n",
    "    for element in arr:\n",
    "        result += element\n",
    "    return result\n",
    "'''\n",
    "\n",
    "\n",
    "# solution\n",
    "'''\n",
    "for loop runs n times where n is total no. of element in array.\n",
    "Time complexity of this function is O(n) \n",
    "\n",
    "T(n) = O(n)\n",
    "'''\n"
   ]
  },
  {
   "cell_type": "code",
   "execution_count": null,
   "id": "1a800f38-c340-40df-860a-a2cfcb884758",
   "metadata": {},
   "outputs": [],
   "source": [
    "'''\n",
    "Problem 4 :\n",
    "\n",
    "def longest_increasing_subsequence(nums):\n",
    "    n = len(nums)\n",
    "    lis = [1] * n\n",
    "    for i in range(1, n):\n",
    "        for j in range(0, i):\n",
    "            if nums[i] > nums[j] and lis[i] < lis[j] + 1:\n",
    "                lis[i] = lis[j] + 1\n",
    "    return max(lis)\n",
    "'''\n",
    "\n",
    "\n",
    "\n",
    "# solution\n",
    "'''\n",
    "first iteration : inner for loop runs 0 times\n",
    "second iteration : inner for loop runs 1 times\n",
    "third iteration : inner for loop runs 2 times\n",
    ".\n",
    ".\n",
    ".\n",
    "nth iteration : inner for loop runs only n-1 times\n",
    "then overall time complexity :\n",
    "=> 0 + 1 + 2 + 3 + 4 + ..................(n-1)\n",
    "\n",
    "T(n) = n*(n-1)/2\n",
    "\n",
    "Worst case Time Complexity\n",
    "T(n) = O(n²)\n",
    "'''\n"
   ]
  },
  {
   "cell_type": "code",
   "execution_count": null,
   "id": "a32829e4-2cf7-496e-97cf-3617f9db87ce",
   "metadata": {},
   "outputs": [],
   "source": [
    "'''\n",
    "Problem 5 :\n",
    "\n",
    "def mysterious_function(arr):\n",
    "    n = len(arr)\n",
    "    result = 0\n",
    "    for i in range(n):\n",
    "        for j in range(i, n):\n",
    "            result += arr[i] * arr[j]\n",
    "    return result\n",
    "'''\n",
    "\n",
    "\n",
    "\n",
    "# solution\n",
    "'''\n",
    "first iteration : inner for loop runs n times\n",
    "second iteration : inner for loop runs n-1 times\n",
    "third iteration : inner for loop runs n-2 times\n",
    ".\n",
    ".\n",
    ".\n",
    "nth iteration : inner for loop runs only 1 times\n",
    "then overall time complexity :\n",
    "=> (n) + (n-1) + (n-2) + (n-3) +............. + 1\n",
    "\n",
    "T(n) = n*(n+1)/2\n",
    "\n",
    "Worst case Time Complexity\n",
    "T(n) = O(n²)\n",
    "\n",
    "'''\n"
   ]
  },
  {
   "cell_type": "markdown",
   "id": "5a651341-50d1-4117-b3b4-72a27b2e64df",
   "metadata": {},
   "source": [
    "# Solve the following problems on recursion"
   ]
  },
  {
   "cell_type": "code",
   "execution_count": 1,
   "id": "905151b6-2a8a-4927-9aff-d3af688fe3aa",
   "metadata": {},
   "outputs": [
    {
     "data": {
      "text/plain": [
       "15"
      ]
     },
     "execution_count": 1,
     "metadata": {},
     "output_type": "execute_result"
    }
   ],
   "source": [
    "# Problem 6 : Sum of Digits\n",
    "# Write a recursive function to calculate the sum of digits of a given positive integer. sum_of_digits(123) -> 6\n",
    "\n",
    "def sum_of_digit(num):\n",
    "    if num in range(10):\n",
    "        return num\n",
    "    else:\n",
    "        return num%10 + sum_of_digit(num//10)\n",
    "num = 12345\n",
    "sum_of_digit(num)\n"
   ]
  },
  {
   "cell_type": "code",
   "execution_count": 3,
   "id": "63fa3b94-b397-42e5-a715-9dea9ab59a04",
   "metadata": {},
   "outputs": [
    {
     "name": "stdout",
     "output_type": "stream",
     "text": [
      "[0, 1, 1, 2, 3, 5]\n"
     ]
    }
   ],
   "source": [
    "# Problem 7: Fibonacci Series\n",
    "# Write a recursive function to generate the first n numbers of the Fibonacci series. fibonacci_series(6) -> [0, 1, 1, 2, 3, 5]\n",
    "\n",
    "def fibonacci_series(n):\n",
    "    if n <= 1:\n",
    "        return n\n",
    "    else:\n",
    "        return fibonacci_series(n-1) + fibonacci_series(n-2)\n",
    "\n",
    "n = 6\n",
    "fibonacci_no = []\n",
    "for i in range(n):\n",
    "    fibonacci_no.append(fibonacci_series(i))\n",
    "print(fibonacci_no)"
   ]
  },
  {
   "cell_type": "code",
   "execution_count": 20,
   "id": "4aae4cd6-3d47-4000-84d8-6f1e2244a3c6",
   "metadata": {},
   "outputs": [
    {
     "data": {
      "text/plain": [
       "True"
      ]
     },
     "execution_count": 20,
     "metadata": {},
     "output_type": "execute_result"
    }
   ],
   "source": [
    "# Problem 8 : Subset Sum\n",
    "'''\n",
    "Given a set of positive integers and a target sum, write a recursive function to determine if there exists a subset\n",
    "of the integers that adds up to the target sum.\n",
    "subset_sum([3, 34, 4, 12, 5, 2], 9) -> True\n",
    "'''\n",
    "import itertools\n",
    "arr = [3, 34, 4, 12, 5, 2]\n",
    "target = 9\n",
    "k = len(arr) \n",
    "# K is no. of elements in subset\n",
    "def Subset_Sum(arr, target, k):\n",
    "    if k == 0:\n",
    "        return False\n",
    "    else:\n",
    "        subset = list(itertools.combinations(arr, k))\n",
    "        for i in range(len(subset)):\n",
    "            if target == sum(subset[i]):\n",
    "                return True\n",
    "        return Subset_Sum(arr, target, k-1)\n",
    "Subset_Sum(arr, target, k)"
   ]
  },
  {
   "cell_type": "code",
   "execution_count": 2,
   "id": "032e7423-50ac-41d9-981e-ac9628e85d5a",
   "metadata": {},
   "outputs": [
    {
     "data": {
      "text/plain": [
       "True"
      ]
     },
     "execution_count": 2,
     "metadata": {},
     "output_type": "execute_result"
    }
   ],
   "source": [
    "# Problem 9: Word Break\n",
    "'''\n",
    "Given a non-empty string and a list of words, write a recursive function to determine if the string can be\n",
    "segmented into a space-separated sequence of dictionary words.\n",
    "word_break( leetcode , [ leet , code ]) -> True\n",
    "'''\n",
    "\n",
    "string = \"leetcode\"\n",
    "listOfWord = [ \"leet\" , \"code\" ]\n",
    "\n",
    "def word_break(string, listOfWord):\n",
    "    if string == \"\":\n",
    "        return True\n",
    "    else:\n",
    "        Length = len(string)\n",
    "        for i in range(1, Length + 1):\n",
    "            if string[:i] in listOfWord and word_break(string[i:], listOfWord):\n",
    "                return True\n",
    "        return False\n",
    "word_break(string, listOfWord)\n"
   ]
  },
  {
   "cell_type": "code",
   "execution_count": 13,
   "id": "4cb02cf3-44cc-49d5-8bc7-26fe7051247b",
   "metadata": {},
   "outputs": [
    {
     "name": "stdout",
     "output_type": "stream",
     "text": [
      ". . Q . \n",
      "Q . . . \n",
      ". . . Q \n",
      ". Q . . \n"
     ]
    }
   ],
   "source": [
    "# Problem 10 : N-Queens\n",
    "'''\n",
    "Implement a recursive function to solve the N Queens problem, where you have to place N queens on an N×N\n",
    "chessboard in such a way that no two queens threaten each other.\n",
    "n_queens(4)\n",
    "'''\n",
    "\n",
    "global N\n",
    "N = 4\n",
    "\n",
    "def printSolution(board):\n",
    "    for i in range(N):\n",
    "        for j in range(N):\n",
    "            if board[i][j] == 1:\n",
    "               # board[i][j] = 'Q'\n",
    "                print(\"Q\", end = \" \")\n",
    "            else:\n",
    "                print(\".\", end = \" \")\n",
    "        print()\n",
    "        \n",
    "def isSafe(board, row, col):\n",
    "    # check previous column at same row\n",
    "    for i in range(col):\n",
    "        if board[row][i] == 1:\n",
    "            return False\n",
    "    # check left upper diagonal\n",
    "    for i, j in zip(range(row, -1, -1), range(col, -1, -1)):\n",
    "        if board[i][j] == 1:\n",
    "            return False\n",
    "        \n",
    "    # check left lower diagonal \n",
    "    \n",
    "    for i, j in zip(range(row, N, 1), range(col, -1, -1)):\n",
    "        if board[i][j] == 1:\n",
    "            return False\n",
    "        \n",
    "    return True\n",
    "\n",
    "def solveNQUtil(board, col):\n",
    "    \n",
    "    if col >= N:\n",
    "        return True\n",
    "    \n",
    "    for row in range(N):\n",
    "        \n",
    "        if isSafe(board, row, col):\n",
    "            board[row][col] = 1\n",
    "            \n",
    "            if solveNQUtil(board, col + 1):\n",
    "                return True\n",
    "            board[row][col] = 0\n",
    "            \n",
    "    return False\n",
    "\n",
    "def solveNQ():\n",
    "    board4 = [\n",
    "            [0,0,0,0],\n",
    "            [0,0,0,0],\n",
    "            [0,0,0,0],\n",
    "            [0,0,0,0]\n",
    "            ]\n",
    "    if not solveNQUtil(board4, 0):\n",
    "        print(\"Solution does not exist\")\n",
    "        return\n",
    "    printSolution(board4)\n",
    "    \n",
    "solveNQ()\n"
   ]
  },
  {
   "cell_type": "code",
   "execution_count": null,
   "id": "b29d5005-f850-44f2-a39c-88b5b4af1318",
   "metadata": {},
   "outputs": [],
   "source": []
  }
 ],
 "metadata": {
  "kernelspec": {
   "display_name": "Python 3 (ipykernel)",
   "language": "python",
   "name": "python3"
  },
  "language_info": {
   "codemirror_mode": {
    "name": "ipython",
    "version": 3
   },
   "file_extension": ".py",
   "mimetype": "text/x-python",
   "name": "python",
   "nbconvert_exporter": "python",
   "pygments_lexer": "ipython3",
   "version": "3.10.8"
  }
 },
 "nbformat": 4,
 "nbformat_minor": 5
}
